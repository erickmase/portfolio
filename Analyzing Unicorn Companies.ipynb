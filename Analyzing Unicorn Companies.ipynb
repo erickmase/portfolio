{
 "cells": [
  {
   "cell_type": "markdown",
   "id": "33dda299-ad0e-4262-b285-7d1297a3ba66",
   "metadata": {},
   "source": [
    "# Analyzing Unicorn Companies\n",
    "\n",
    "##  SQL DataCamp project\n",
    "### By Erick Martinez Sevilla\n",
    "\n",
    "Did you know that the average return from investing in stocks is [10% per year](https://www.nerdwallet.com/article/investing/average-stock-market-return) (not accounting for inflation)? But who wants to be average?! \n",
    "\n",
    "You have been asked to support an investment firm by analyzing trends in high-growth companies. They are interested in understanding which industries are producing the highest valuations and the rate at which new high-value companies are emerging. Providing them with this information gives them a competitive insight as to industry trends and how they should structure their portfolio looking forward.\n",
    "\n",
    "You have been given access to their `unicorns` database, which contains the following tables:\n",
    "\n",
    "## dates\n",
    "| Column       | Description                                  |\n",
    "|------------- |--------------------------------------------- |\n",
    "| `company_id`   | A unique ID for the company.                 |\n",
    "| `date_joined` | The date that the company became a unicorn.  |\n",
    "| `year_founded` | The year that the company was founded.       |\n",
    "\n",
    "## funding\n",
    "| Column           | Description                                  |\n",
    "|----------------- |--------------------------------------------- |\n",
    "| `company_id`       | A unique ID for the company.                 |\n",
    "| `valuation`        | Company value in US dollars.                 |\n",
    "| `funding`          | The amount of funding raised in US dollars.  |\n",
    "| `select_investors` | A list of key investors in the company.      |\n",
    "\n",
    "## industries\n",
    "| Column       | Description                                  |\n",
    "|------------- |--------------------------------------------- |\n",
    "| `company_id`   | A unique ID for the company.                 |\n",
    "| `industry`     | The industry that the company operates in.   |\n",
    "\n",
    "## companies\n",
    "| Column       | Description                                       |\n",
    "|------------- |-------------------------------------------------- |\n",
    "| `company_id`   | A unique ID for the company.                      |\n",
    "| `company`      | The name of the company.                          |\n",
    "| `city`         | The city where the company is headquartered.      |\n",
    "| `country`      | The country where the company is headquartered.   |\n",
    "| `continent`    | The continent where the company is headquartered. |\n"
   ]
  },
  {
   "cell_type": "markdown",
   "id": "48a34f18-9207-4a1d-9c91-0b1a4aec770d",
   "metadata": {},
   "source": [
    "# Query DF"
   ]
  },
  {
   "cell_type": "code",
   "execution_count": 4,
   "id": "8d7d8de9-5da9-4b35-bc60-9f0502eb56d6",
   "metadata": {
    "customType": "sql",
    "dataFrameVariableName": "df",
    "executionCancelledAt": null,
    "executionTime": 1045,
    "lastExecutedAt": 1696539327169,
    "lastScheduledRunId": null,
    "lastSuccessfullyExecutedCode": "WITH top AS (\n\tSELECT \n\t\ti.industry,\n\t\tCOUNT(*) as count\n\tFROM industries AS i\n\tINNER JOIN dates as d\n\t\tUSING(company_id)\n\tWHERE EXTRACT(year FROM date_joined) IN (2019, 2020, 2021)\n\tGROUP BY industry\n\tORDER BY count DESC\n\tLIMIT 3\n),\nval AS (                        -- Second CTE\n\tSELECT\n\t\ti.industry,\n\t\tEXTRACT(year FROM d.date_joined) AS year,\n\t\tCOUNT(*) AS num_unicorns,\n\t\tROUND(AVG(valuation / 1000000000),2) AS average_valuation_billions\n\tFROM industries AS i\n\tINNER JOIN dates as d\n\t\tUSING(company_id)\n\tINNER JOIN funding AS f\n\t\tUSING(company_id)\n\tWHERE EXTRACT(year FROM d.date_joined) IN (2019, 2020, 2021)\n\tGROUP BY industry, year\n)\n\nSELECT\n\tindustry,\n\tyear,\n\tnum_unicorns,\n\taverage_valuation_billions\nFROM val \nINNER JOIN top\n\tUSING(industry);",
    "outputsMetadata": {
     "0": {
      "height": 291,
      "type": "dataFrame"
     }
    },
    "sqlCellMode": "dataFrame",
    "sqlSource": {
     "integrationId": "89e17161-a224-4a8a-846b-0adc0fe7a4b1",
     "type": "integration"
    }
   },
   "outputs": [
    {
     "@datacamp/metadata": {
      "executedQuery": "WITH top AS (\n\tSELECT \n\t\ti.industry,\n\t\tCOUNT(*) as count\n\tFROM industries AS i\n\tINNER JOIN dates as d\n\t\tUSING(company_id)\n\tWHERE EXTRACT(year FROM date_joined) IN (2019, 2020, 2021)\n\tGROUP BY industry\n\tORDER BY count DESC\n\tLIMIT 3\n),\nval AS (                        -- Second CTE\n\tSELECT\n\t\ti.industry,\n\t\tEXTRACT(year FROM d.date_joined) AS year,\n\t\tCOUNT(*) AS num_unicorns,\n\t\tROUND(AVG(valuation / 1000000000),2) AS average_valuation_billions\n\tFROM industries AS i\n\tINNER JOIN dates as d\n\t\tUSING(company_id)\n\tINNER JOIN funding AS f\n\t\tUSING(company_id)\n\tWHERE EXTRACT(year FROM d.date_joined) IN (2019, 2020, 2021)\n\tGROUP BY industry, year\n)\n\nSELECT\n\tindustry,\n\tyear,\n\tnum_unicorns,\n\taverage_valuation_billions\nFROM val \nINNER JOIN top\n\tUSING(industry);",
      "executedQueryParameters": []
     },
     "data": {
      "application/com.datacamp.data-table.v1+json": {
       "table": {
        "data": [
         {
          "average_valuation_billions": 2.58,
          "index": 0,
          "industry": "E-commerce & direct-to-consumer",
          "num_unicorns": 12,
          "year": 2019
         },
         {
          "average_valuation_billions": 4,
          "index": 1,
          "industry": "E-commerce & direct-to-consumer",
          "num_unicorns": 16,
          "year": 2020
         },
         {
          "average_valuation_billions": 2.47,
          "index": 2,
          "industry": "E-commerce & direct-to-consumer",
          "num_unicorns": 47,
          "year": 2021
         },
         {
          "average_valuation_billions": 6.8,
          "index": 3,
          "industry": "Fintech",
          "num_unicorns": 20,
          "year": 2019
         },
         {
          "average_valuation_billions": 4.33,
          "index": 4,
          "industry": "Fintech",
          "num_unicorns": 15,
          "year": 2020
         },
         {
          "average_valuation_billions": 2.75,
          "index": 5,
          "industry": "Fintech",
          "num_unicorns": 138,
          "year": 2021
         },
         {
          "average_valuation_billions": 4.23,
          "index": 6,
          "industry": "Internet software & services",
          "num_unicorns": 13,
          "year": 2019
         },
         {
          "average_valuation_billions": 4.35,
          "index": 7,
          "industry": "Internet software & services",
          "num_unicorns": 20,
          "year": 2020
         },
         {
          "average_valuation_billions": 2.15,
          "index": 8,
          "industry": "Internet software & services",
          "num_unicorns": 119,
          "year": 2021
         }
        ],
        "schema": {
         "fields": [
          {
           "name": "index",
           "type": "integer"
          },
          {
           "name": "industry",
           "type": "string"
          },
          {
           "name": "year",
           "type": "integer"
          },
          {
           "name": "num_unicorns",
           "type": "integer"
          },
          {
           "name": "average_valuation_billions",
           "type": "number"
          }
         ],
         "pandas_version": "1.4.0",
         "primaryKey": [
          "index"
         ]
        }
       },
       "total_rows": 9,
       "truncation_type": null
      },
      "text/html": [
       "<div>\n",
       "<style scoped>\n",
       "    .dataframe tbody tr th:only-of-type {\n",
       "        vertical-align: middle;\n",
       "    }\n",
       "\n",
       "    .dataframe tbody tr th {\n",
       "        vertical-align: top;\n",
       "    }\n",
       "\n",
       "    .dataframe thead th {\n",
       "        text-align: right;\n",
       "    }\n",
       "</style>\n",
       "<table border=\"1\" class=\"dataframe\">\n",
       "  <thead>\n",
       "    <tr style=\"text-align: right;\">\n",
       "      <th></th>\n",
       "      <th>industry</th>\n",
       "      <th>year</th>\n",
       "      <th>num_unicorns</th>\n",
       "      <th>average_valuation_billions</th>\n",
       "    </tr>\n",
       "  </thead>\n",
       "  <tbody>\n",
       "    <tr>\n",
       "      <th>0</th>\n",
       "      <td>E-commerce &amp; direct-to-consumer</td>\n",
       "      <td>2019</td>\n",
       "      <td>12</td>\n",
       "      <td>2.58</td>\n",
       "    </tr>\n",
       "    <tr>\n",
       "      <th>1</th>\n",
       "      <td>E-commerce &amp; direct-to-consumer</td>\n",
       "      <td>2020</td>\n",
       "      <td>16</td>\n",
       "      <td>4.00</td>\n",
       "    </tr>\n",
       "    <tr>\n",
       "      <th>2</th>\n",
       "      <td>E-commerce &amp; direct-to-consumer</td>\n",
       "      <td>2021</td>\n",
       "      <td>47</td>\n",
       "      <td>2.47</td>\n",
       "    </tr>\n",
       "    <tr>\n",
       "      <th>3</th>\n",
       "      <td>Fintech</td>\n",
       "      <td>2019</td>\n",
       "      <td>20</td>\n",
       "      <td>6.80</td>\n",
       "    </tr>\n",
       "    <tr>\n",
       "      <th>4</th>\n",
       "      <td>Fintech</td>\n",
       "      <td>2020</td>\n",
       "      <td>15</td>\n",
       "      <td>4.33</td>\n",
       "    </tr>\n",
       "    <tr>\n",
       "      <th>5</th>\n",
       "      <td>Fintech</td>\n",
       "      <td>2021</td>\n",
       "      <td>138</td>\n",
       "      <td>2.75</td>\n",
       "    </tr>\n",
       "    <tr>\n",
       "      <th>6</th>\n",
       "      <td>Internet software &amp; services</td>\n",
       "      <td>2019</td>\n",
       "      <td>13</td>\n",
       "      <td>4.23</td>\n",
       "    </tr>\n",
       "    <tr>\n",
       "      <th>7</th>\n",
       "      <td>Internet software &amp; services</td>\n",
       "      <td>2020</td>\n",
       "      <td>20</td>\n",
       "      <td>4.35</td>\n",
       "    </tr>\n",
       "    <tr>\n",
       "      <th>8</th>\n",
       "      <td>Internet software &amp; services</td>\n",
       "      <td>2021</td>\n",
       "      <td>119</td>\n",
       "      <td>2.15</td>\n",
       "    </tr>\n",
       "  </tbody>\n",
       "</table>\n",
       "</div>"
      ],
      "text/plain": [
       "                          industry  ...  average_valuation_billions\n",
       "0  E-commerce & direct-to-consumer  ...                        2.58\n",
       "1  E-commerce & direct-to-consumer  ...                        4.00\n",
       "2  E-commerce & direct-to-consumer  ...                        2.47\n",
       "3                          Fintech  ...                        6.80\n",
       "4                          Fintech  ...                        4.33\n",
       "5                          Fintech  ...                        2.75\n",
       "6     Internet software & services  ...                        4.23\n",
       "7     Internet software & services  ...                        4.35\n",
       "8     Internet software & services  ...                        2.15\n",
       "\n",
       "[9 rows x 4 columns]"
      ]
     },
     "execution_count": 4,
     "metadata": {},
     "output_type": "execute_result"
    }
   ],
   "source": [
    "WITH top AS (\n",
    "\tSELECT \n",
    "\t\ti.industry,\n",
    "\t\tCOUNT(*) as count\n",
    "\tFROM industries AS i\n",
    "\tINNER JOIN dates as d\n",
    "\t\tUSING(company_id)\n",
    "\tWHERE EXTRACT(year FROM date_joined) IN (2019, 2020, 2021)\n",
    "\tGROUP BY industry\n",
    "\tORDER BY count DESC\n",
    "\tLIMIT 3\n",
    "),\n",
    "val AS (                        -- Second CTE\n",
    "\tSELECT\n",
    "\t\ti.industry,\n",
    "\t\tEXTRACT(year FROM d.date_joined) AS year,\n",
    "\t\tCOUNT(*) AS num_unicorns,\n",
    "\t\tROUND(AVG(valuation / 1000000000),2) AS average_valuation_billions\n",
    "\tFROM industries AS i\n",
    "\tINNER JOIN dates as d\n",
    "\t\tUSING(company_id)\n",
    "\tINNER JOIN funding AS f\n",
    "\t\tUSING(company_id)\n",
    "\tWHERE EXTRACT(year FROM d.date_joined) IN (2019, 2020, 2021)\n",
    "\tGROUP BY industry, year\n",
    ")\n",
    "\n",
    "SELECT\n",
    "\tindustry,\n",
    "\tyear,\n",
    "\tnum_unicorns,\n",
    "\taverage_valuation_billions\n",
    "FROM val \n",
    "INNER JOIN top\n",
    "\tUSING(industry);"
   ]
  },
  {
   "cell_type": "markdown",
   "id": "2d7d7f85",
   "metadata": {},
   "source": [
    "## Conclusion \n",
    "\n",
    "It can be seen that out of the top 3 best performing industries (Industries with the largest number of unicorn companies bewteen 2019-2021), fintech has the highest average valuations of the unicorn companies. Therefore, it can be concluded by extrapolating that the investment firm should structure their portfolio with a higher number of fintech stocks in the future."
   ]
  }
 ],
 "metadata": {
  "colab": {
   "name": "Welcome to DataCamp Workspaces.ipynb",
   "provenance": []
  },
  "kernelspec": {
   "display_name": "Python 3 (ipykernel)",
   "language": "python",
   "name": "python3"
  },
  "language_info": {
   "codemirror_mode": {
    "name": "ipython",
    "version": 3
   },
   "file_extension": ".py",
   "mimetype": "text/x-python",
   "name": "python",
   "nbconvert_exporter": "python",
   "pygments_lexer": "ipython3",
   "version": "3.9.12"
  }
 },
 "nbformat": 4,
 "nbformat_minor": 5
}
