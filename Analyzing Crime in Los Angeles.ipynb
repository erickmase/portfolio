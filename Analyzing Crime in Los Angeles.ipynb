{
 "cells": [
  {
   "cell_type": "markdown",
   "id": "31ab2131-3049-4d8d-b9dc-d195f72af27a",
   "metadata": {},
   "source": [
    "# Analyzing Crime in Los Angeles\n",
    "\n",
    "## The Data\n",
    "The dataset used for this project is a modified version of the original data, which is publicly available from Los Angeles Open Data.\n",
    "\n",
    "We are going to use the data to answer important questions about crime and help the LAPD allocate resources more efficiently.\n",
    "\n",
    "# crimes.csv\n",
    "\n",
    "| Column     | Description              |\n",
    "|------------|--------------------------|\n",
    "| `'DR_NO'` | Division of Records Number: Official file number made up of a 2-digit year, area ID, and 5 digits. |\n",
    "| `'Date Rptd'` | Date reported - MM/DD/YYYY. |\n",
    "| `'DATE OCC'` | Date of occurrence - MM/DD/YYYY. |\n",
    "| `'TIME OCC'` | In 24-hour military time. |\n",
    "| `'AREA NAME'` | The 21 Geographic Areas or Patrol Divisions are also given a name designation that references a landmark or the surrounding community that it is responsible for. For example, the 77th Street Division is located at the intersection of South Broadway and 77th Street, serving neighborhoods in South Los Angeles. |\n",
    "| `'Crm Cd Desc'` | Indicates the crime committed. |\n",
    "| `'Vict Age'` | Victim's age in years. |\n",
    "| `'Vict Sex'` | Victim's sex: `F`: Female, `M`: Male, `X`: Unknown. |\n",
    "| `'Vict Descent'` | Victim's descent:<ul><li>`A` - Other Asian</li><li>`B` - Black</li><li>`C` - Chinese</li><li>`D` - Cambodian</li><li>`F` - Filipino</li><li>`G` - Guamanian</li><li>`H` - Hispanic/Latin/Mexican</li><li>`I` - American Indian/Alaskan Native</li><li>`J` - Japanese</li><li>`K` - Korean</li><li>`L` - Laotian</li><li>`O` - Other</li><li>`P` - Pacific Islander</li><li>`S` - Samoan</li><li>`U` - Hawaiian</li><li>`V` - Vietnamese</li><li>`W` - White</li><li>`X` - Unknown</li><li>`Z` - Asian Indian</li> |\n",
    "| `'Weapon Desc'` | Description of the weapon used (if applicable). |\n",
    "| `'Status Desc'` | Crime status. |\n",
    "| `'LOCATION'` | Street address of the crime. |"
   ]
  },
  {
   "cell_type": "markdown",
   "id": "6c204f54",
   "metadata": {},
   "source": [
    "## 1. Prepare Data"
   ]
  },
  {
   "cell_type": "code",
   "execution_count": 35,
   "id": "7c6c3c36-5c8b-4cce-8681-95292b8f0861",
   "metadata": {
    "executionCancelledAt": null,
    "executionTime": 413,
    "lastExecutedAt": 1706256206780,
    "lastScheduledRunId": null,
    "lastSuccessfullyExecutedCode": "# Re-run this cell\n# Import required libraries\nimport pandas as pd\nimport numpy as np\nimport matplotlib.pyplot as plt\nimport seaborn as sns\ncrimes = pd.read_csv(\"crimes.csv\", parse_dates=[\"Date Rptd\", \"DATE OCC\"], dtype={\"TIME OCC\": str})\ncrimes.head()",
    "outputsMetadata": {
     "0": {
      "height": 213,
      "type": "dataFrame"
     }
    }
   },
   "outputs": [
    {
     "data": {
      "application/com.datacamp.data-table.v2+json": {
       "table": {
        "data": {
         "AREA NAME": [
          "Pacific",
          "Southwest",
          "Olympic",
          "Hollywood",
          "77th Street"
         ],
         "Crm Cd Desc": [
          "THEFT FROM MOTOR VEHICLE - PETTY ($950 & UNDER)",
          "THEFT OF IDENTITY",
          "THEFT OF IDENTITY",
          "THEFT OF IDENTITY",
          "THEFT OF IDENTITY"
         ],
         "DATE OCC": [
          "2020-11-12T00:00:00.000",
          "2020-05-12T00:00:00.000",
          "2020-06-04T00:00:00.000",
          "2020-08-17T00:00:00.000",
          "2020-01-27T00:00:00.000"
         ],
         "DR_NO": [
          221412410,
          220314085,
          222013040,
          220614831,
          231207725
         ],
         "Date Rptd": [
          "2022-06-15T00:00:00.000",
          "2022-07-22T00:00:00.000",
          "2022-08-06T00:00:00.000",
          "2022-08-18T00:00:00.000",
          "2023-02-27T00:00:00.000"
         ],
         "LOCATION": [
          "13600    MARINA POINT                 DR",
          "2500 S  SYCAMORE                     AV",
          "3300    SAN MARINO                   ST",
          "1900    TRANSIENT",
          "6200    4TH                          AV"
         ],
         "Status Desc": [
          "Invest Cont",
          "Invest Cont",
          "Invest Cont",
          "Invest Cont",
          "Invest Cont"
         ],
         "TIME OCC": [
          "1700",
          "1110",
          "1620",
          "1200",
          "0635"
         ],
         "Vict Age": [
          0,
          27,
          60,
          28,
          37
         ],
         "Vict Descent": [
          null,
          "B",
          "H",
          "H",
          "H"
         ],
         "Vict Sex": [
          null,
          "F",
          "M",
          "M",
          "M"
         ],
         "Weapon Desc": [
          null,
          null,
          null,
          null,
          null
         ],
         "index": [
          0,
          1,
          2,
          3,
          4
         ]
        },
        "schema": {
         "fields": [
          {
           "name": "index",
           "type": "integer"
          },
          {
           "name": "DR_NO",
           "type": "integer"
          },
          {
           "name": "Date Rptd",
           "type": "datetime"
          },
          {
           "name": "DATE OCC",
           "type": "datetime"
          },
          {
           "name": "TIME OCC",
           "type": "string"
          },
          {
           "name": "AREA NAME",
           "type": "string"
          },
          {
           "name": "Crm Cd Desc",
           "type": "string"
          },
          {
           "name": "Vict Age",
           "type": "integer"
          },
          {
           "name": "Vict Sex",
           "type": "string"
          },
          {
           "name": "Vict Descent",
           "type": "string"
          },
          {
           "name": "Weapon Desc",
           "type": "string"
          },
          {
           "name": "Status Desc",
           "type": "string"
          },
          {
           "name": "LOCATION",
           "type": "string"
          }
         ],
         "pandas_version": "1.4.0",
         "primaryKey": [
          "index"
         ]
        }
       },
       "total_rows": 5,
       "truncation_type": null
      },
      "text/html": [
       "<div>\n",
       "<style scoped>\n",
       "    .dataframe tbody tr th:only-of-type {\n",
       "        vertical-align: middle;\n",
       "    }\n",
       "\n",
       "    .dataframe tbody tr th {\n",
       "        vertical-align: top;\n",
       "    }\n",
       "\n",
       "    .dataframe thead th {\n",
       "        text-align: right;\n",
       "    }\n",
       "</style>\n",
       "<table border=\"1\" class=\"dataframe\">\n",
       "  <thead>\n",
       "    <tr style=\"text-align: right;\">\n",
       "      <th></th>\n",
       "      <th>DR_NO</th>\n",
       "      <th>Date Rptd</th>\n",
       "      <th>DATE OCC</th>\n",
       "      <th>TIME OCC</th>\n",
       "      <th>AREA NAME</th>\n",
       "      <th>Crm Cd Desc</th>\n",
       "      <th>Vict Age</th>\n",
       "      <th>Vict Sex</th>\n",
       "      <th>Vict Descent</th>\n",
       "      <th>Weapon Desc</th>\n",
       "      <th>Status Desc</th>\n",
       "      <th>LOCATION</th>\n",
       "    </tr>\n",
       "  </thead>\n",
       "  <tbody>\n",
       "    <tr>\n",
       "      <th>0</th>\n",
       "      <td>221412410</td>\n",
       "      <td>2022-06-15</td>\n",
       "      <td>2020-11-12</td>\n",
       "      <td>1700</td>\n",
       "      <td>Pacific</td>\n",
       "      <td>THEFT FROM MOTOR VEHICLE - PETTY ($950 &amp; UNDER)</td>\n",
       "      <td>0</td>\n",
       "      <td>NaN</td>\n",
       "      <td>NaN</td>\n",
       "      <td>NaN</td>\n",
       "      <td>Invest Cont</td>\n",
       "      <td>13600    MARINA POINT                 DR</td>\n",
       "    </tr>\n",
       "    <tr>\n",
       "      <th>1</th>\n",
       "      <td>220314085</td>\n",
       "      <td>2022-07-22</td>\n",
       "      <td>2020-05-12</td>\n",
       "      <td>1110</td>\n",
       "      <td>Southwest</td>\n",
       "      <td>THEFT OF IDENTITY</td>\n",
       "      <td>27</td>\n",
       "      <td>F</td>\n",
       "      <td>B</td>\n",
       "      <td>NaN</td>\n",
       "      <td>Invest Cont</td>\n",
       "      <td>2500 S  SYCAMORE                     AV</td>\n",
       "    </tr>\n",
       "    <tr>\n",
       "      <th>2</th>\n",
       "      <td>222013040</td>\n",
       "      <td>2022-08-06</td>\n",
       "      <td>2020-06-04</td>\n",
       "      <td>1620</td>\n",
       "      <td>Olympic</td>\n",
       "      <td>THEFT OF IDENTITY</td>\n",
       "      <td>60</td>\n",
       "      <td>M</td>\n",
       "      <td>H</td>\n",
       "      <td>NaN</td>\n",
       "      <td>Invest Cont</td>\n",
       "      <td>3300    SAN MARINO                   ST</td>\n",
       "    </tr>\n",
       "    <tr>\n",
       "      <th>3</th>\n",
       "      <td>220614831</td>\n",
       "      <td>2022-08-18</td>\n",
       "      <td>2020-08-17</td>\n",
       "      <td>1200</td>\n",
       "      <td>Hollywood</td>\n",
       "      <td>THEFT OF IDENTITY</td>\n",
       "      <td>28</td>\n",
       "      <td>M</td>\n",
       "      <td>H</td>\n",
       "      <td>NaN</td>\n",
       "      <td>Invest Cont</td>\n",
       "      <td>1900    TRANSIENT</td>\n",
       "    </tr>\n",
       "    <tr>\n",
       "      <th>4</th>\n",
       "      <td>231207725</td>\n",
       "      <td>2023-02-27</td>\n",
       "      <td>2020-01-27</td>\n",
       "      <td>0635</td>\n",
       "      <td>77th Street</td>\n",
       "      <td>THEFT OF IDENTITY</td>\n",
       "      <td>37</td>\n",
       "      <td>M</td>\n",
       "      <td>H</td>\n",
       "      <td>NaN</td>\n",
       "      <td>Invest Cont</td>\n",
       "      <td>6200    4TH                          AV</td>\n",
       "    </tr>\n",
       "  </tbody>\n",
       "</table>\n",
       "</div>"
      ],
      "text/plain": [
       "       DR_NO  Date Rptd  ...  Status Desc                                  LOCATION\n",
       "0  221412410 2022-06-15  ...  Invest Cont  13600    MARINA POINT                 DR\n",
       "1  220314085 2022-07-22  ...  Invest Cont   2500 S  SYCAMORE                     AV\n",
       "2  222013040 2022-08-06  ...  Invest Cont   3300    SAN MARINO                   ST\n",
       "3  220614831 2022-08-18  ...  Invest Cont                         1900    TRANSIENT\n",
       "4  231207725 2023-02-27  ...  Invest Cont   6200    4TH                          AV\n",
       "\n",
       "[5 rows x 12 columns]"
      ]
     },
     "execution_count": 35,
     "metadata": {},
     "output_type": "execute_result"
    }
   ],
   "source": [
    "# Re-run this cell\n",
    "# Import required libraries\n",
    "import pandas as pd\n",
    "import numpy as np\n",
    "import matplotlib.pyplot as plt\n",
    "import seaborn as sns\n",
    "crimes = pd.read_csv(\"crimes.csv\", parse_dates=[\"Date Rptd\", \"DATE OCC\"], dtype={\"TIME OCC\": str})\n",
    "crimes.head()"
   ]
  },
  {
   "cell_type": "markdown",
   "id": "4be44e7a-0b80-493f-8411-1a65a2aa6063",
   "metadata": {},
   "source": [
    "## 2. Finding which hour has the highest frequency of crime"
   ]
  },
  {
   "cell_type": "code",
   "execution_count": 36,
   "id": "8819a2fa-93f9-44bc-9a84-59bba62c0a9e",
   "metadata": {
    "executionCancelledAt": null,
    "executionTime": 335,
    "lastExecutedAt": 1706256207115,
    "lastScheduledRunId": null,
    "lastSuccessfullyExecutedCode": "# Creating a variable to find the peak crime hour\npeak_crime_hour = int(crimes['TIME OCC'].str[:2].value_counts().idxmax())\n\nprint(\"The peak crime hour is at\", peak_crime_hour)\n\n# Round to the closest hour \ncrimes['crime_hours_rounded'] = np.floor(crimes['TIME OCC'].astype(int) / 100)\n\n# Plot\np1 = sns.histplot(data = crimes, x = 'crime_hours_rounded', bins = 24 )\n\np1.set_title(\"Distribution of Crime Hours\", y = 1.03)\np1.set(xlabel = \"Hour of crime\",\n       ylabel = \"Count\")\nplt.show()",
    "outputsMetadata": {
     "0": {
      "height": 37,
      "type": "stream"
     }
    }
   },
   "outputs": [
    {
     "name": "stdout",
     "output_type": "stream",
     "text": [
      "The peak crime hour is at 12\n"
     ]
    },
    {
     "data": {
      "image/png": "[encoded data removed]",
      "text/plain": [
       "<Figure size 640x480 with 1 Axes>"
      ]
     },
     "metadata": {},
     "output_type": "display_data"
    }
   ],
   "source": [
    "# Creating a variable to find the peak crime hour\n",
    "peak_crime_hour = int(crimes['TIME OCC'].str[:2].value_counts().idxmax())\n",
    "\n",
    "print(\"The peak crime hour is at\", peak_crime_hour)\n",
    "\n",
    "# Round to the closest hour \n",
    "crimes['crime_hours_rounded'] = np.floor(crimes['TIME OCC'].astype(int) / 100)\n",
    "\n",
    "# Plot\n",
    "p1 = sns.histplot(data = crimes, x = 'crime_hours_rounded', bins = 24 )\n",
    "\n",
    "p1.set_title(\"Distribution of Crime Hours\", y = 1.03)\n",
    "p1.set(xlabel = \"Hour of crime\",\n",
    "       ylabel = \"Count\")\n",
    "plt.show()"
   ]
  },
  {
   "cell_type": "markdown",
   "id": "c4f5ec85-47ee-4943-adbe-8781008a3f76",
   "metadata": {},
   "source": [
    "## 3. Finding the area with the largest amount of crime \n",
    "Now, we are going to find the largest frequency of night crimes commited between 10pm and 3:59 am"
   ]
  },
  {
   "cell_type": "code",
   "execution_count": 38,
   "id": "099d927c-abe0-4b61-92af-e7c19f670579",
   "metadata": {
    "executionCancelledAt": null,
    "executionTime": 357,
    "lastExecutedAt": 1706256207520,
    "lastScheduledRunId": null,
    "lastSuccessfullyExecutedCode": "# Filter for times \nnight_crimes = crimes.query('`TIME OCC` >= \"2200\" or `TIME OCC` <= \"0359\"')\n\n# Count values\npeak_night_crime_location = night_crimes['AREA NAME'].value_counts().idxmax()\n\nprint(\"The area with the highest crime rate bewteen 10 pm and 3:59 am is\", peak_night_crime_location)\n\n# Make a count plot of the number of crimes per area\nsns.set_palette(\"PRGn\")\np2 = sns.countplot(data = night_crimes, x = 'AREA NAME')\n\np2.set_title(\"Night Crime per Area\")\np2.set(xlabel = \"Area\",\n       ylabel = \"Count\")\nplt.xticks(rotation = 90)\nplt.show()",
    "outputsMetadata": {
     "0": {
      "height": 37,
      "type": "stream"
     }
    }
   },
   "outputs": [
    {
     "name": "stdout",
     "output_type": "stream",
     "text": [
      "The area with the highest crime rate bewteen 10 pm and 3:59 am is Central\n"
     ]
    },
    {
     "data": {
      "image/png": "[encoded data removed]",
      "text/plain": [
       "<Figure size 640x480 with 1 Axes>"
      ]
     },
     "metadata": {},
     "output_type": "display_data"
    }
   ],
   "source": [
    "# Filter for times \n",
    "night_crimes = crimes.query('`TIME OCC` >= \"2200\" or `TIME OCC` <= \"0359\"')\n",
    "\n",
    "# Count values\n",
    "peak_night_crime_location = night_crimes['AREA NAME'].value_counts().idxmax()\n",
    "\n",
    "print(\"The area with the highest crime rate bewteen 10 pm and 3:59 am is\", peak_night_crime_location)\n",
    "\n",
    "# Make a count plot of the number of crimes per area\n",
    "sns.set_palette(\"PRGn\")\n",
    "p2 = sns.countplot(data = night_crimes, x = 'AREA NAME')\n",
    "\n",
    "p2.set_title(\"Night Crime per Area\")\n",
    "p2.set(xlabel = \"Area\",\n",
    "       ylabel = \"Count\")\n",
    "plt.xticks(rotation = 90)\n",
    "plt.show()"
   ]
  },
  {
   "cell_type": "markdown",
   "id": "22c310e1-29c8-477e-808b-a9cdb786d116",
   "metadata": {},
   "source": [
    "## 4. Commited Crimes by Age Group\n",
    "Now, we will be identifying the number of crimes commited against victims per age group (0-17, 18-25, 26-34, 35-44, 45-54, 55-64, 65+)"
   ]
  },
  {
   "cell_type": "code",
   "execution_count": 39,
   "id": "f675e09b-11d5-4bf5-b0c1-5cb20a13c5fc",
   "metadata": {
    "executionCancelledAt": null,
    "executionTime": 52,
    "lastExecutedAt": 1706256207572,
    "lastScheduledRunId": null,
    "lastSuccessfullyExecutedCode": "# Inspect and filter Age\ncrimes = crimes[crimes['Vict Age'] > 0 ]\n\n# Create the bins & labels for the .cut function\nage_bins = [0, 17, 25, 34, 44, 54, 64, 500]\nage_labels = [\"0-17\", \"18-25\", \"25-34\", \"35-44\", \"45-54\", \"55-64\", \"65+\"]\n\n# Perform the categorical function addition with .cut\ncrimes['age_group'] = pd.cut(crimes['Vict Age'], labels = age_labels, bins = age_bins)\n\n# Identify numbver of crimes\nvictim_ages = crimes['age_group'].value_counts()\n\nprint(victim_ages)\n",
    "outputsMetadata": {
     "0": {
      "height": 177,
      "type": "stream"
     }
    }
   },
   "outputs": [
    {
     "name": "stdout",
     "output_type": "stream",
     "text": [
      "25-34    47470\n",
      "35-44    42157\n",
      "45-54    28353\n",
      "18-25    28291\n",
      "55-64    20169\n",
      "65+      14747\n",
      "0-17      4528\n",
      "Name: age_group, dtype: int64\n"
     ]
    }
   ],
   "source": [
    "# Inspect and filter Age\n",
    "crimes = crimes[crimes['Vict Age'] > 0 ]\n",
    "\n",
    "# Create the bins & labels for the .cut function\n",
    "age_bins = [0, 17, 25, 34, 44, 54, 64, 500]\n",
    "age_labels = [\"0-17\", \"18-25\", \"25-34\", \"35-44\", \"45-54\", \"55-64\", \"65+\"]\n",
    "\n",
    "# Perform the categorical function addition with .cut\n",
    "crimes['age_group'] = pd.cut(crimes['Vict Age'], labels = age_labels, bins = age_bins)\n",
    "\n",
    "# Identify numbver of crimes\n",
    "victim_ages = crimes['age_group'].value_counts()\n",
    "\n",
    "print(victim_ages)\n"
   ]
  }
 ],
 "metadata": {
  "colab": {
   "name": "Welcome to DataCamp Workspaces.ipynb",
   "provenance": []
  },
  "kernelspec": {
   "display_name": "Python 3 (ipykernel)",
   "language": "python",
   "name": "python3"
  },
  "language_info": {
   "codemirror_mode": {
    "name": "ipython",
    "version": 3
   },
   "file_extension": ".py",
   "mimetype": "text/x-python",
   "name": "python",
   "nbconvert_exporter": "python",
   "pygments_lexer": "ipython3",
   "version": "3.9.12"
  }
 },
 "nbformat": 4,
 "nbformat_minor": 5
}
