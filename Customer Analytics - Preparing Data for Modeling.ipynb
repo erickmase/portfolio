{
 "cells": [
  {
   "cell_type": "markdown",
   "id": "a09e6d54-bf3f-4632-b299-bd49d5c80d5f",
   "metadata": {},
   "source": [
    "Ensuring that your dataset is stored as efficiently as possible is crucial for allowing models to run on a more reasonable timescale without having to reduce the size of the dataset.\n",
    "\n",
    "The task is to clean up one of the companies largest customer datasets. This dataset will eventually be used to predict whether their students are looking for a new job or not, information that they will then use to direct them to prospective recruiters.\n",
    "\n",
    "You've been given access to `customer_train.csv`, which is a subset of their entire customer dataset, so you can create a proof-of-concept of a much more efficient storage solution. The dataset contains anonymized student information, and whether they were looking for a new job or not during training:\n",
    "\n",
    "| Column                   | Description                                                                      |\n",
    "|------------------------- |--------------------------------------------------------------------------------- |\n",
    "| `student_id`             | A unique ID for each student.                                                    |\n",
    "| `city`                   | A code for the city the student lives in.                                        |\n",
    "| `city_development_index` | A scaled development index for the city.                                         |\n",
    "| `gender`                 | The student's gender.                                                            |\n",
    "| `relevant_experience`    | An indicator of the student's work relevant experience.                          |\n",
    "| `enrolled_university`    | The type of university course enrolled in (if any).                              |\n",
    "| `education_level`        | The student's education level.                                                   |\n",
    "| `major_discipline`       | The educational discipline of the student.                                       |\n",
    "| `experience`             | The student's total work experience (in years).                                  |\n",
    "| `company_size`           | The number of employees at the student's current employer.                       |\n",
    "| `company_type`           | The type of company employing the student.                                       |\n",
    "| `last_new_job`           | The number of years between the student's current and previous jobs.             |\n",
    "| `training_hours`         | The number of hours of training completed.                                       |\n",
    "| `job_change`             | An indicator of whether the student is looking for a new job (`1`) or not (`0`). |"
   ]
  },
  {
   "cell_type": "code",
   "execution_count": 2,
   "id": "eda9c1b2-4e9a-41ac-8da6-d4c98775f986",
   "metadata": {
    "executionCancelledAt": null,
    "executionTime": 64,
    "lastExecutedAt": 1715234613467,
    "lastExecutedByKernel": "74481f5e-bc47-4f3e-862d-57a0242d1efe",
    "lastScheduledRunId": null,
    "lastSuccessfullyExecutedCode": "# Import necessary libraries\nimport pandas as pd\n\n# Load the dataset\nds_jobs = pd.read_csv(\"customer_train.csv\")\n\n# View the dataset\nds_jobs.head()",
    "outputsMetadata": {
     "0": {
      "height": 211,
      "type": "dataFrame"
     }
    }
   },
   "outputs": [
    {
     "data": {
      "text/html": [
       "<div>\n",
       "<style scoped>\n",
       "    .dataframe tbody tr th:only-of-type {\n",
       "        vertical-align: middle;\n",
       "    }\n",
       "\n",
       "    .dataframe tbody tr th {\n",
       "        vertical-align: top;\n",
       "    }\n",
       "\n",
       "    .dataframe thead th {\n",
       "        text-align: right;\n",
       "    }\n",
       "</style>\n",
       "<table border=\"1\" class=\"dataframe\">\n",
       "  <thead>\n",
       "    <tr style=\"text-align: right;\">\n",
       "      <th></th>\n",
       "      <th>student_id</th>\n",
       "      <th>city</th>\n",
       "      <th>city_development_index</th>\n",
       "      <th>gender</th>\n",
       "      <th>relevant_experience</th>\n",
       "      <th>enrolled_university</th>\n",
       "      <th>education_level</th>\n",
       "      <th>major_discipline</th>\n",
       "      <th>experience</th>\n",
       "      <th>company_size</th>\n",
       "      <th>company_type</th>\n",
       "      <th>last_new_job</th>\n",
       "      <th>training_hours</th>\n",
       "      <th>job_change</th>\n",
       "    </tr>\n",
       "  </thead>\n",
       "  <tbody>\n",
       "    <tr>\n",
       "      <th>0</th>\n",
       "      <td>8949</td>\n",
       "      <td>city_103</td>\n",
       "      <td>0.920</td>\n",
       "      <td>Male</td>\n",
       "      <td>Has relevant experience</td>\n",
       "      <td>no_enrollment</td>\n",
       "      <td>Graduate</td>\n",
       "      <td>STEM</td>\n",
       "      <td>&gt;20</td>\n",
       "      <td>NaN</td>\n",
       "      <td>NaN</td>\n",
       "      <td>1</td>\n",
       "      <td>36</td>\n",
       "      <td>1.0</td>\n",
       "    </tr>\n",
       "    <tr>\n",
       "      <th>1</th>\n",
       "      <td>29725</td>\n",
       "      <td>city_40</td>\n",
       "      <td>0.776</td>\n",
       "      <td>Male</td>\n",
       "      <td>No relevant experience</td>\n",
       "      <td>no_enrollment</td>\n",
       "      <td>Graduate</td>\n",
       "      <td>STEM</td>\n",
       "      <td>15</td>\n",
       "      <td>50-99</td>\n",
       "      <td>Pvt Ltd</td>\n",
       "      <td>&gt;4</td>\n",
       "      <td>47</td>\n",
       "      <td>0.0</td>\n",
       "    </tr>\n",
       "    <tr>\n",
       "      <th>2</th>\n",
       "      <td>11561</td>\n",
       "      <td>city_21</td>\n",
       "      <td>0.624</td>\n",
       "      <td>NaN</td>\n",
       "      <td>No relevant experience</td>\n",
       "      <td>Full time course</td>\n",
       "      <td>Graduate</td>\n",
       "      <td>STEM</td>\n",
       "      <td>5</td>\n",
       "      <td>NaN</td>\n",
       "      <td>NaN</td>\n",
       "      <td>never</td>\n",
       "      <td>83</td>\n",
       "      <td>0.0</td>\n",
       "    </tr>\n",
       "    <tr>\n",
       "      <th>3</th>\n",
       "      <td>33241</td>\n",
       "      <td>city_115</td>\n",
       "      <td>0.789</td>\n",
       "      <td>NaN</td>\n",
       "      <td>No relevant experience</td>\n",
       "      <td>NaN</td>\n",
       "      <td>Graduate</td>\n",
       "      <td>Business Degree</td>\n",
       "      <td>&lt;1</td>\n",
       "      <td>NaN</td>\n",
       "      <td>Pvt Ltd</td>\n",
       "      <td>never</td>\n",
       "      <td>52</td>\n",
       "      <td>1.0</td>\n",
       "    </tr>\n",
       "    <tr>\n",
       "      <th>4</th>\n",
       "      <td>666</td>\n",
       "      <td>city_162</td>\n",
       "      <td>0.767</td>\n",
       "      <td>Male</td>\n",
       "      <td>Has relevant experience</td>\n",
       "      <td>no_enrollment</td>\n",
       "      <td>Masters</td>\n",
       "      <td>STEM</td>\n",
       "      <td>&gt;20</td>\n",
       "      <td>50-99</td>\n",
       "      <td>Funded Startup</td>\n",
       "      <td>4</td>\n",
       "      <td>8</td>\n",
       "      <td>0.0</td>\n",
       "    </tr>\n",
       "  </tbody>\n",
       "</table>\n",
       "</div>"
      ],
      "text/plain": [
       "   student_id      city  city_development_index gender  \\\n",
       "0        8949  city_103                   0.920   Male   \n",
       "1       29725   city_40                   0.776   Male   \n",
       "2       11561   city_21                   0.624    NaN   \n",
       "3       33241  city_115                   0.789    NaN   \n",
       "4         666  city_162                   0.767   Male   \n",
       "\n",
       "       relevant_experience enrolled_university education_level  \\\n",
       "0  Has relevant experience       no_enrollment        Graduate   \n",
       "1   No relevant experience       no_enrollment        Graduate   \n",
       "2   No relevant experience    Full time course        Graduate   \n",
       "3   No relevant experience                 NaN        Graduate   \n",
       "4  Has relevant experience       no_enrollment         Masters   \n",
       "\n",
       "  major_discipline experience company_size    company_type last_new_job  \\\n",
       "0             STEM        >20          NaN             NaN            1   \n",
       "1             STEM         15        50-99         Pvt Ltd           >4   \n",
       "2             STEM          5          NaN             NaN        never   \n",
       "3  Business Degree         <1          NaN         Pvt Ltd        never   \n",
       "4             STEM        >20        50-99  Funded Startup            4   \n",
       "\n",
       "   training_hours  job_change  \n",
       "0              36         1.0  \n",
       "1              47         0.0  \n",
       "2              83         0.0  \n",
       "3              52         1.0  \n",
       "4               8         0.0  "
      ]
     },
     "execution_count": 2,
     "metadata": {},
     "output_type": "execute_result"
    }
   ],
   "source": [
    "# Import necessary libraries\n",
    "import pandas as pd\n",
    "\n",
    "# Load the dataset\n",
    "ds_jobs = pd.read_csv(\"customer_train.csv\")\n",
    "\n",
    "# View the dataset\n",
    "ds_jobs.head()"
   ]
  },
  {
   "cell_type": "code",
   "execution_count": 3,
   "id": "60a27d7d-a6aa-4772-a121-0db505842b08",
   "metadata": {
    "executionCancelledAt": null,
    "executionTime": 55,
    "lastExecutedAt": 1715234613522,
    "lastExecutedByKernel": "74481f5e-bc47-4f3e-862d-57a0242d1efe",
    "lastScheduledRunId": null,
    "lastSuccessfullyExecutedCode": "# Get the info and memory usage on the ds_jobs dataset\nprint(ds_jobs.memory_usage())\n\nprint(ds_jobs.info())",
    "outputsMetadata": {
     "0": {
      "height": 616,
      "type": "stream"
     }
    }
   },
   "outputs": [
    {
     "name": "stdout",
     "output_type": "stream",
     "text": [
      "Index                        128\n",
      "student_id                153264\n",
      "city                      153264\n",
      "city_development_index    153264\n",
      "gender                    153264\n",
      "relevant_experience       153264\n",
      "enrolled_university       153264\n",
      "education_level           153264\n",
      "major_discipline          153264\n",
      "experience                153264\n",
      "company_size              153264\n",
      "company_type              153264\n",
      "last_new_job              153264\n",
      "training_hours            153264\n",
      "job_change                153264\n",
      "dtype: int64\n",
      "<class 'pandas.core.frame.DataFrame'>\n",
      "RangeIndex: 19158 entries, 0 to 19157\n",
      "Data columns (total 14 columns):\n",
      " #   Column                  Non-Null Count  Dtype  \n",
      "---  ------                  --------------  -----  \n",
      " 0   student_id              19158 non-null  int64  \n",
      " 1   city                    19158 non-null  object \n",
      " 2   city_development_index  19158 non-null  float64\n",
      " 3   gender                  14650 non-null  object \n",
      " 4   relevant_experience     19158 non-null  object \n",
      " 5   enrolled_university     18772 non-null  object \n",
      " 6   education_level         18698 non-null  object \n",
      " 7   major_discipline        16345 non-null  object \n",
      " 8   experience              19093 non-null  object \n",
      " 9   company_size            13220 non-null  object \n",
      " 10  company_type            13018 non-null  object \n",
      " 11  last_new_job            18735 non-null  object \n",
      " 12  training_hours          19158 non-null  int64  \n",
      " 13  job_change              19158 non-null  float64\n",
      "dtypes: float64(2), int64(2), object(10)\n",
      "memory usage: 2.0+ MB\n",
      "None\n"
     ]
    }
   ],
   "source": [
    "# Get the info and memory usage on the ds_jobs dataset\n",
    "print(ds_jobs.memory_usage())\n",
    "\n",
    "print(ds_jobs.info())"
   ]
  },
  {
   "cell_type": "markdown",
   "id": "30522ce7",
   "metadata": {},
   "source": [
    "### In the next cell, I will be doing a value_count of each column one at a time and assess what way can it be stored in order to save memory."
   ]
  },
  {
   "cell_type": "code",
   "execution_count": 50,
   "id": "f37cee4f-8414-42ad-b2a4-a3885d09bb38",
   "metadata": {
    "executionCancelledAt": null,
    "executionTime": 51,
    "lastExecutedAt": 1715234613573,
    "lastExecutedByKernel": "74481f5e-bc47-4f3e-862d-57a0242d1efe",
    "lastScheduledRunId": null,
    "lastSuccessfullyExecutedCode": "## Count the values of object type columns\nds_jobs['enrolled_university'].value_counts()",
    "outputsMetadata": {
     "0": {
      "height": 145,
      "type": "dataFrame"
     }
    }
   },
   "outputs": [
    {
     "data": {
      "application/com.datacamp.data-table.v2+json": {
       "table": {
        "data": {
         "enrolled_university": [
          13817,
          3757,
          1198
         ],
         "index": [
          "no_enrollment",
          "Full time course",
          "Part time course"
         ]
        },
        "schema": {
         "fields": [
          {
           "name": "index",
           "type": "string"
          },
          {
           "name": "enrolled_university",
           "type": "integer"
          }
         ],
         "pandas_version": "1.4.0",
         "primaryKey": [
          "index"
         ]
        }
       },
       "total_rows": 3,
       "truncation_type": null
      },
      "text/plain": [
       "no_enrollment       13817\n",
       "Full time course     3757\n",
       "Part time course     1198\n",
       "Name: enrolled_university, dtype: int64"
      ]
     },
     "execution_count": 50,
     "metadata": {},
     "output_type": "execute_result"
    }
   ],
   "source": [
    "## Count the values of object type columns\n",
    "ds_jobs['enrolled_university'].value_counts()"
   ]
  },
  {
   "cell_type": "markdown",
   "id": "8824582c",
   "metadata": {},
   "source": [
    "### Create a copy of the df and transforming data"
   ]
  },
  {
   "cell_type": "code",
   "execution_count": 4,
   "id": "13757e62-aca2-48f4-b569-a838af11bdd5",
   "metadata": {
    "executionCancelledAt": null,
    "executionTime": 52,
    "lastExecutedAt": 1715234613625,
    "lastExecutedByKernel": "74481f5e-bc47-4f3e-862d-57a0242d1efe",
    "lastScheduledRunId": null,
    "lastSuccessfullyExecutedCode": "# Create a copy of ds_jobs for transforming\nds_jobs_transformed = ds_jobs.copy()\n\n# Changing all the int64 columns to int32\nds_jobs_transformed['student_id'] = ds_jobs_transformed['student_id'].astype(\"int32\")\n\nds_jobs_transformed['training_hours'] = ds_jobs_transformed['training_hours'].astype(\"int32\")\n\n# Changing all the categories with two factors as booleans\nds_jobs_transformed['relevant_experience'] = ds_jobs_transformed['relevant_experience'].astype(\"bool\")\n\nds_jobs_transformed['job_change'] = ds_jobs_transformed['job_change'].astype(\"bool\")\n\n# Changing all the float64 columns to float16\nds_jobs_transformed['city_development_index'] = ds_jobs_transformed['city_development_index'].astype(\"float16\")\n\n# Changing object columns containing nominal categorical data to category type\n\nds_jobs_transformed['city'] = ds_jobs_transformed['city'].astype(\"category\")\n\nds_jobs_transformed['gender'] = ds_jobs_transformed['gender'].astype(\"category\")\n\nds_jobs_transformed['major_discipline'] = ds_jobs_transformed['major_discipline'].astype(\"category\")\n\nds_jobs_transformed['company_type'] = ds_jobs_transformed['company_type'].astype(\"category\")"
   },
   "outputs": [],
   "source": [
    "# Create a copy of ds_jobs for transforming\n",
    "ds_jobs_transformed = ds_jobs.copy()\n",
    "\n",
    "# Changing all the int64 columns to int32\n",
    "ds_jobs_transformed['student_id'] = ds_jobs_transformed['student_id'].astype(\"int32\")\n",
    "\n",
    "ds_jobs_transformed['training_hours'] = ds_jobs_transformed['training_hours'].astype(\"int32\")\n",
    "\n",
    "# Changing all the categories with two factors as booleans\n",
    "ds_jobs_transformed['relevant_experience'] = ds_jobs_transformed['relevant_experience'].astype(\"bool\")\n",
    "\n",
    "ds_jobs_transformed['job_change'] = ds_jobs_transformed['job_change'].astype(\"bool\")\n",
    "\n",
    "# Changing all the float64 columns to float16\n",
    "ds_jobs_transformed['city_development_index'] = ds_jobs_transformed['city_development_index'].astype(\"float16\")\n",
    "\n",
    "# Changing object columns containing nominal categorical data to category type\n",
    "\n",
    "ds_jobs_transformed['city'] = ds_jobs_transformed['city'].astype(\"category\")\n",
    "\n",
    "ds_jobs_transformed['gender'] = ds_jobs_transformed['gender'].astype(\"category\")\n",
    "\n",
    "ds_jobs_transformed['major_discipline'] = ds_jobs_transformed['major_discipline'].astype(\"category\")\n",
    "\n",
    "ds_jobs_transformed['company_type'] = ds_jobs_transformed['company_type'].astype(\"category\")"
   ]
  },
  {
   "cell_type": "code",
   "execution_count": 5,
   "id": "42503c7e-0e36-431f-a135-4cf93bdfc68c",
   "metadata": {
    "executionCancelledAt": null,
    "executionTime": 55,
    "lastExecutedAt": 1715234613680,
    "lastExecutedByKernel": "74481f5e-bc47-4f3e-862d-57a0242d1efe",
    "lastScheduledRunId": null,
    "lastSuccessfullyExecutedCode": "# Changing object columns containing ordinal categorical data to category type\nds_jobs_transformed['education_level'] = ds_jobs_transformed['education_level'].astype(\"category\")\n\nds_jobs_transformed['enrolled_university'] = ds_jobs_transformed['enrolled_university'].astype(\"category\")\n\nds_jobs_transformed['experience'] = ds_jobs_transformed['experience'].astype(\"category\")\n\nds_jobs_transformed['company_size'] = ds_jobs_transformed['company_size'].astype(\"category\")\n\nds_jobs_transformed['last_new_job'] = ds_jobs_transformed['last_new_job'].astype(\"category\")\n\n# Reorder categories into a natural order\nds_jobs_transformed['education_level'] = ds_jobs_transformed['education_level'].cat.reorder_categories(\n    new_categories = ['Primary School', 'High School', 'Graduate', 'Masters', 'Phd'],\n    ordered = True)\n\nds_jobs_transformed['enrolled_university'] = ds_jobs_transformed['enrolled_university'].cat.reorder_categories(\n    new_categories = ['no_enrollment', 'Part time course', 'Full time course'],\n    ordered = True)\n\nds_jobs_transformed['experience'] = ds_jobs_transformed['experience'].cat.reorder_categories(\n    new_categories = ['<1', '1', '2', '3', '4', '5', '6', '7', '8', '9', '10', '11', '12', '13',\n                      '14', '15', '16', '17', '18', '19', '20', '>20'],\n    ordered = True)\n\nds_jobs_transformed['company_size'] = ds_jobs_transformed['company_size'].cat.reorder_categories(\n    new_categories = ['<10', '10-49', '50-99', '100-499', '500-999', '1000-4999', '5000-9999', '10000+'],\n    ordered = True)\n\nds_jobs_transformed['last_new_job'] = ds_jobs_transformed['last_new_job'].cat.reorder_categories(\n    new_categories = ['never', '1', '2', '3', '4', '>4'],\n    ordered = True)"
   },
   "outputs": [],
   "source": [
    "# Changing object columns containing ordinal categorical data to category type\n",
    "ds_jobs_transformed['education_level'] = ds_jobs_transformed['education_level'].astype(\"category\")\n",
    "\n",
    "ds_jobs_transformed['enrolled_university'] = ds_jobs_transformed['enrolled_university'].astype(\"category\")\n",
    "\n",
    "ds_jobs_transformed['experience'] = ds_jobs_transformed['experience'].astype(\"category\")\n",
    "\n",
    "ds_jobs_transformed['company_size'] = ds_jobs_transformed['company_size'].astype(\"category\")\n",
    "\n",
    "ds_jobs_transformed['last_new_job'] = ds_jobs_transformed['last_new_job'].astype(\"category\")\n",
    "\n",
    "# Reorder categories into a natural order\n",
    "ds_jobs_transformed['education_level'] = ds_jobs_transformed['education_level'].cat.reorder_categories(\n",
    "    new_categories = ['Primary School', 'High School', 'Graduate', 'Masters', 'Phd'],\n",
    "    ordered = True)\n",
    "\n",
    "ds_jobs_transformed['enrolled_university'] = ds_jobs_transformed['enrolled_university'].cat.reorder_categories(\n",
    "    new_categories = ['no_enrollment', 'Part time course', 'Full time course'],\n",
    "    ordered = True)\n",
    "\n",
    "ds_jobs_transformed['experience'] = ds_jobs_transformed['experience'].cat.reorder_categories(\n",
    "    new_categories = ['<1', '1', '2', '3', '4', '5', '6', '7', '8', '9', '10', '11', '12', '13',\n",
    "                      '14', '15', '16', '17', '18', '19', '20', '>20'],\n",
    "    ordered = True)\n",
    "\n",
    "ds_jobs_transformed['company_size'] = ds_jobs_transformed['company_size'].cat.reorder_categories(\n",
    "    new_categories = ['<10', '10-49', '50-99', '100-499', '500-999', '1000-4999', '5000-9999', '10000+'],\n",
    "    ordered = True)\n",
    "\n",
    "ds_jobs_transformed['last_new_job'] = ds_jobs_transformed['last_new_job'].cat.reorder_categories(\n",
    "    new_categories = ['never', '1', '2', '3', '4', '>4'],\n",
    "    ordered = True)"
   ]
  },
  {
   "cell_type": "code",
   "execution_count": 6,
   "id": "aa872004-bdb2-4060-9c6a-355f7e54d9d8",
   "metadata": {
    "executionCancelledAt": null,
    "executionTime": 50,
    "lastExecutedAt": 1715234613732,
    "lastExecutedByKernel": "74481f5e-bc47-4f3e-862d-57a0242d1efe",
    "lastScheduledRunId": null,
    "lastSuccessfullyExecutedCode": "# Filter for students with 10 or more years of experience at companies with at least 1000 employees\nds_jobs_transformed = ds_jobs_transformed[ds_jobs_transformed['experience'] >= \"10\"]\nds_jobs_transformed = ds_jobs_transformed[ds_jobs_transformed['company_size'] >= \"1000-4999\"]"
   },
   "outputs": [],
   "source": [
    "# Filter for students with 10 or more years of experience at companies with at least 1000 employees\n",
    "ds_jobs_transformed = ds_jobs_transformed[ds_jobs_transformed['experience'] >= \"10\"]\n",
    "ds_jobs_transformed = ds_jobs_transformed[ds_jobs_transformed['company_size'] >= \"1000-4999\"]"
   ]
  },
  {
   "cell_type": "markdown",
   "id": "37b9ee74",
   "metadata": {},
   "source": [
    "### Compare the memory usage from the original dataset"
   ]
  },
  {
   "cell_type": "code",
   "execution_count": 9,
   "id": "62920ef8",
   "metadata": {},
   "outputs": [
    {
     "name": "stdout",
     "output_type": "stream",
     "text": [
      "Index                        128\n",
      "student_id                153264\n",
      "city                      153264\n",
      "city_development_index    153264\n",
      "gender                    153264\n",
      "relevant_experience       153264\n",
      "enrolled_university       153264\n",
      "education_level           153264\n",
      "major_discipline          153264\n",
      "experience                153264\n",
      "company_size              153264\n",
      "company_type              153264\n",
      "last_new_job              153264\n",
      "training_hours            153264\n",
      "job_change                153264\n",
      "dtype: int64\n",
      "\n",
      "Index                     17608\n",
      "student_id                 8804\n",
      "city                       7353\n",
      "city_development_index     4402\n",
      "gender                     2333\n",
      "relevant_experience        2201\n",
      "enrolled_university        2333\n",
      "education_level            2413\n",
      "major_discipline           2421\n",
      "experience                 2933\n",
      "company_size               2565\n",
      "company_type               2421\n",
      "last_new_job               2421\n",
      "training_hours             8804\n",
      "job_change                 2201\n",
      "dtype: int64\n"
     ]
    }
   ],
   "source": [
    "print(ds_jobs.memory_usage())\n",
    "print()\n",
    "print(ds_jobs_transformed.memory_usage())"
   ]
  }
 ],
 "metadata": {
  "editor": "DataLab",
  "kernelspec": {
   "display_name": "Python 3 (ipykernel)",
   "language": "python",
   "name": "python3"
  },
  "language_info": {
   "codemirror_mode": {
    "name": "ipython",
    "version": 3
   },
   "file_extension": ".py",
   "mimetype": "text/x-python",
   "name": "python",
   "nbconvert_exporter": "python",
   "pygments_lexer": "ipython3",
   "version": "3.9.12"
  }
 },
 "nbformat": 4,
 "nbformat_minor": 5
}
