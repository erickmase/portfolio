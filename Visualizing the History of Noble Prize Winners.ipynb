{
 "cells": [
  {
   "cell_type": "markdown",
   "id": "4728ebf4-eb2d-49a1-a424-5fd0720ba951",
   "metadata": {},
   "source": [
    "# Visualizing the History of Noble Prize Winners"
   ]
  },
  {
   "cell_type": "markdown",
   "id": "db5bd2ce-918a-4f7d-a927-a3ea74c4b456",
   "metadata": {},
   "source": [
    "The Nobel Prize has been among the most prestigious international awards since 1901. Each year, awards are bestowed in chemistry, literature, physics, physiology or medicine, economics, and peace. In addition to the honor, prestige, and substantial prize money, the recipient also gets a gold medal with an image of Alfred Nobel (1833 - 1896), who established the prize.\n",
    "\n",
    "The Nobel Foundation has made a dataset available of all prize winners from the outset of the awards from 1901 to 2023. The dataset used in this project is from the Nobel Prize API.\n",
    "\n",
    "In this project, you'll get a chance to explore and answer several questions related to this prizewinning data."
   ]
  },
  {
   "cell_type": "code",
   "execution_count": 1,
   "id": "11fd5946-7bd1-495c-aa7f-ff6e7e4a350b",
   "metadata": {
    "executionCancelledAt": null,
    "executionTime": 46,
    "lastExecutedAt": 1705603572785,
    "lastScheduledRunId": null,
    "lastSuccessfullyExecutedCode": "# Loading in required libraries\nimport pandas as pd\nimport seaborn as sns\nimport numpy as np\n\n# Taking a look at the dataset\nnobel_df = pd.read_csv('data/nobel.csv')\nnobel_df.head()",
    "outputsMetadata": {
     "0": {
      "height": 213,
      "type": "dataFrame"
     }
    }
   },
   "outputs": [
    {
     "data": {
      "text/html": [
       "<div>\n",
       "<style scoped>\n",
       "    .dataframe tbody tr th:only-of-type {\n",
       "        vertical-align: middle;\n",
       "    }\n",
       "\n",
       "    .dataframe tbody tr th {\n",
       "        vertical-align: top;\n",
       "    }\n",
       "\n",
       "    .dataframe thead th {\n",
       "        text-align: right;\n",
       "    }\n",
       "</style>\n",
       "<table border=\"1\" class=\"dataframe\">\n",
       "  <thead>\n",
       "    <tr style=\"text-align: right;\">\n",
       "      <th></th>\n",
       "      <th>year</th>\n",
       "      <th>category</th>\n",
       "      <th>prize</th>\n",
       "      <th>motivation</th>\n",
       "      <th>prize_share</th>\n",
       "      <th>laureate_id</th>\n",
       "      <th>laureate_type</th>\n",
       "      <th>full_name</th>\n",
       "      <th>birth_date</th>\n",
       "      <th>birth_city</th>\n",
       "      <th>birth_country</th>\n",
       "      <th>sex</th>\n",
       "      <th>organization_name</th>\n",
       "      <th>organization_city</th>\n",
       "      <th>organization_country</th>\n",
       "      <th>death_date</th>\n",
       "      <th>death_city</th>\n",
       "      <th>death_country</th>\n",
       "    </tr>\n",
       "  </thead>\n",
       "  <tbody>\n",
       "    <tr>\n",
       "      <th>0</th>\n",
       "      <td>1901</td>\n",
       "      <td>Chemistry</td>\n",
       "      <td>The Nobel Prize in Chemistry 1901</td>\n",
       "      <td>\"in recognition of the extraordinary services ...</td>\n",
       "      <td>1/1</td>\n",
       "      <td>160</td>\n",
       "      <td>Individual</td>\n",
       "      <td>Jacobus Henricus van 't Hoff</td>\n",
       "      <td>1852-08-30</td>\n",
       "      <td>Rotterdam</td>\n",
       "      <td>Netherlands</td>\n",
       "      <td>Male</td>\n",
       "      <td>Berlin University</td>\n",
       "      <td>Berlin</td>\n",
       "      <td>Germany</td>\n",
       "      <td>1911-03-01</td>\n",
       "      <td>Berlin</td>\n",
       "      <td>Germany</td>\n",
       "    </tr>\n",
       "    <tr>\n",
       "      <th>1</th>\n",
       "      <td>1901</td>\n",
       "      <td>Literature</td>\n",
       "      <td>The Nobel Prize in Literature 1901</td>\n",
       "      <td>\"in special recognition of his poetic composit...</td>\n",
       "      <td>1/1</td>\n",
       "      <td>569</td>\n",
       "      <td>Individual</td>\n",
       "      <td>Sully Prudhomme</td>\n",
       "      <td>1839-03-16</td>\n",
       "      <td>Paris</td>\n",
       "      <td>France</td>\n",
       "      <td>Male</td>\n",
       "      <td>NaN</td>\n",
       "      <td>NaN</td>\n",
       "      <td>NaN</td>\n",
       "      <td>1907-09-07</td>\n",
       "      <td>Châtenay</td>\n",
       "      <td>France</td>\n",
       "    </tr>\n",
       "    <tr>\n",
       "      <th>2</th>\n",
       "      <td>1901</td>\n",
       "      <td>Medicine</td>\n",
       "      <td>The Nobel Prize in Physiology or Medicine 1901</td>\n",
       "      <td>\"for his work on serum therapy, especially its...</td>\n",
       "      <td>1/1</td>\n",
       "      <td>293</td>\n",
       "      <td>Individual</td>\n",
       "      <td>Emil Adolf von Behring</td>\n",
       "      <td>1854-03-15</td>\n",
       "      <td>Hansdorf (Lawice)</td>\n",
       "      <td>Prussia (Poland)</td>\n",
       "      <td>Male</td>\n",
       "      <td>Marburg University</td>\n",
       "      <td>Marburg</td>\n",
       "      <td>Germany</td>\n",
       "      <td>1917-03-31</td>\n",
       "      <td>Marburg</td>\n",
       "      <td>Germany</td>\n",
       "    </tr>\n",
       "    <tr>\n",
       "      <th>3</th>\n",
       "      <td>1901</td>\n",
       "      <td>Peace</td>\n",
       "      <td>The Nobel Peace Prize 1901</td>\n",
       "      <td>NaN</td>\n",
       "      <td>1/2</td>\n",
       "      <td>462</td>\n",
       "      <td>Individual</td>\n",
       "      <td>Jean Henry Dunant</td>\n",
       "      <td>1828-05-08</td>\n",
       "      <td>Geneva</td>\n",
       "      <td>Switzerland</td>\n",
       "      <td>Male</td>\n",
       "      <td>NaN</td>\n",
       "      <td>NaN</td>\n",
       "      <td>NaN</td>\n",
       "      <td>1910-10-30</td>\n",
       "      <td>Heiden</td>\n",
       "      <td>Switzerland</td>\n",
       "    </tr>\n",
       "    <tr>\n",
       "      <th>4</th>\n",
       "      <td>1901</td>\n",
       "      <td>Peace</td>\n",
       "      <td>The Nobel Peace Prize 1901</td>\n",
       "      <td>NaN</td>\n",
       "      <td>1/2</td>\n",
       "      <td>463</td>\n",
       "      <td>Individual</td>\n",
       "      <td>Frédéric Passy</td>\n",
       "      <td>1822-05-20</td>\n",
       "      <td>Paris</td>\n",
       "      <td>France</td>\n",
       "      <td>Male</td>\n",
       "      <td>NaN</td>\n",
       "      <td>NaN</td>\n",
       "      <td>NaN</td>\n",
       "      <td>1912-06-12</td>\n",
       "      <td>Paris</td>\n",
       "      <td>France</td>\n",
       "    </tr>\n",
       "  </tbody>\n",
       "</table>\n",
       "</div>"
      ],
      "text/plain": [
       "   year    category                                           prize  \\\n",
       "0  1901   Chemistry               The Nobel Prize in Chemistry 1901   \n",
       "1  1901  Literature              The Nobel Prize in Literature 1901   \n",
       "2  1901    Medicine  The Nobel Prize in Physiology or Medicine 1901   \n",
       "3  1901       Peace                      The Nobel Peace Prize 1901   \n",
       "4  1901       Peace                      The Nobel Peace Prize 1901   \n",
       "\n",
       "                                          motivation prize_share  laureate_id  \\\n",
       "0  \"in recognition of the extraordinary services ...         1/1          160   \n",
       "1  \"in special recognition of his poetic composit...         1/1          569   \n",
       "2  \"for his work on serum therapy, especially its...         1/1          293   \n",
       "3                                                NaN         1/2          462   \n",
       "4                                                NaN         1/2          463   \n",
       "\n",
       "  laureate_type                     full_name  birth_date         birth_city  \\\n",
       "0    Individual  Jacobus Henricus van 't Hoff  1852-08-30          Rotterdam   \n",
       "1    Individual               Sully Prudhomme  1839-03-16              Paris   \n",
       "2    Individual        Emil Adolf von Behring  1854-03-15  Hansdorf (Lawice)   \n",
       "3    Individual             Jean Henry Dunant  1828-05-08             Geneva   \n",
       "4    Individual                Frédéric Passy  1822-05-20              Paris   \n",
       "\n",
       "      birth_country   sex   organization_name organization_city  \\\n",
       "0       Netherlands  Male   Berlin University            Berlin   \n",
       "1            France  Male                 NaN               NaN   \n",
       "2  Prussia (Poland)  Male  Marburg University           Marburg   \n",
       "3       Switzerland  Male                 NaN               NaN   \n",
       "4            France  Male                 NaN               NaN   \n",
       "\n",
       "  organization_country  death_date death_city death_country  \n",
       "0              Germany  1911-03-01     Berlin       Germany  \n",
       "1                  NaN  1907-09-07   Châtenay        France  \n",
       "2              Germany  1917-03-31    Marburg       Germany  \n",
       "3                  NaN  1910-10-30     Heiden   Switzerland  \n",
       "4                  NaN  1912-06-12      Paris        France  "
      ]
     },
     "execution_count": 1,
     "metadata": {},
     "output_type": "execute_result"
    }
   ],
   "source": [
    "# Loading in required libraries\n",
    "import pandas as pd\n",
    "import seaborn as sns\n",
    "import numpy as np\n",
    "\n",
    "# Taking a look at the dataset\n",
    "nobel_df = pd.read_csv('data/nobel.csv')\n",
    "nobel_df.head()"
   ]
  },
  {
   "cell_type": "markdown",
   "id": "b9a3889a-03b8-47cc-8d31-cbe6e4f7bc5d",
   "metadata": {},
   "source": [
    "## 1. Finding the most commonly awarded gender and birth country."
   ]
  },
  {
   "cell_type": "code",
   "execution_count": 2,
   "id": "3e4b9906-49c4-474b-960b-e1c81c09689d",
   "metadata": {
    "executionCancelledAt": null,
    "executionTime": 53,
    "lastExecutedAt": 1705603572838,
    "lastScheduledRunId": null,
    "lastSuccessfullyExecutedCode": "# Group by gender and find the top \ntop_gender = nobel_df.groupby('sex').agg('size').sort_values(ascending = False).index[0]\nprint(top_gender)\n\n# Group by birth country and find the top\ntop_country = nobel_df.groupby('birth_country').agg('size').sort_values(ascending = False).index[0]\nprint(top_country)",
    "outputsMetadata": {
     "0": {
      "height": 57,
      "type": "stream"
     }
    }
   },
   "outputs": [
    {
     "name": "stdout",
     "output_type": "stream",
     "text": [
      "The gender with the most Nobel laureates is: Male\n",
      "\n",
      "The most common birth country of Nobel laureates is: United States of America\n"
     ]
    }
   ],
   "source": [
    "# Group by gender and find the top \n",
    "top_gender = nobel_df.groupby('sex').agg('size').sort_values(ascending = False).index[0]\n",
    "print(\"The gender with the most Nobel laureates is:\", top_gender)\n",
    "\n",
    "print()\n",
    "\n",
    "# Group by birth country and find the top\n",
    "top_country = nobel_df.groupby('birth_country').agg('size').sort_values(ascending = False).index[0]\n",
    "print(\"The most common birth country of Nobel laureates is:\", top_country)"
   ]
  },
  {
   "cell_type": "markdown",
   "id": "bb230e85-5cb9-4200-9325-3326d0e0d3d8",
   "metadata": {},
   "source": [
    "## 2. Finding which decade had the highest proportion of US born winners."
   ]
  },
  {
   "cell_type": "code",
   "execution_count": 3,
   "id": "f3c597c5-57b2-4bab-a307-71654f3f109c",
   "metadata": {
    "executionCancelledAt": null,
    "executionTime": 51,
    "lastExecutedAt": 1705603572889,
    "lastScheduledRunId": null,
    "lastSuccessfullyExecutedCode": "# Filter for US born winners\nnumber_per_year = nobel_df[nobel_df['birth_country'] == 'United States of America' ].groupby('year').agg('size').reset_index(name = 'count')\n\n# Add a decade column using the year\nnumber_per_year['decade'] = (np.floor(number_per_year['year'] / 10) * 10 ).astype(int)\n\n# Find the top decade\nmax_decade_usa = number_per_year.groupby('decade').agg('size').sort_values(ascending = False).index[1]\n\nprint(max_decade_usa)\n",
    "outputsMetadata": {
     "0": {
      "height": 37,
      "type": "stream"
     }
    }
   },
   "outputs": [
    {
     "name": "stdout",
     "output_type": "stream",
     "text": [
      "The decade which had the highest proportion of US born winners is: 2000\n"
     ]
    }
   ],
   "source": [
    "# Filter for US born winners\n",
    "number_per_year = nobel_df[nobel_df['birth_country'] == 'United States of America' ].groupby('year').agg('size').reset_index(name = 'count')\n",
    "\n",
    "# Add a decade column using the year\n",
    "number_per_year['decade'] = (np.floor(number_per_year['year'] / 10) * 10 ).astype(int)\n",
    "\n",
    "# Find the top decade\n",
    "max_decade_usa = number_per_year.groupby('decade').agg('size').sort_values(ascending = False).index[1]\n",
    "\n",
    "print(\"The decade which had the highest proportion of US born winners is:\", max_decade_usa)\n"
   ]
  },
  {
   "cell_type": "markdown",
   "id": "c34d76f1-15f3-463c-9f8e-0ea808ac6bae",
   "metadata": {},
   "source": [
    "## 3. Finding what decade and category pair had the highest proportion of female laureates"
   ]
  },
  {
   "cell_type": "code",
   "execution_count": 14,
   "id": "4f916179-3328-4f87-bcd1-fc62743ad292",
   "metadata": {
    "executionCancelledAt": null,
    "executionTime": 53,
    "lastExecutedAt": 1705603572942,
    "lastScheduledRunId": null,
    "lastSuccessfullyExecutedCode": "# Filter by gender and group by year and category pair\nfemale_count_year_cat = nobel_df[nobel_df['sex'] == 'Female'].groupby(['year', 'category']).agg('size').reset_index(name = 'count')\n\n# Add a decade column\nfemale_count_year_cat['decade'] = (np.floor(female_count_year_cat['year'] / 10) * 10 ).astype(int)\n\n# Find the top decade and category\nmax_female_dict = female_count_year_cat.groupby(['decade', 'category']).agg('size').sort_values(ascending = False).index[0]\n\nprint(max_female_dict)",
    "outputsMetadata": {
     "0": {
      "height": 37,
      "type": "stream"
     }
    }
   },
   "outputs": [
    {
     "name": "stdout",
     "output_type": "stream",
     "text": [
      "The decade which had the highest proportion of female winners is 1990 in the Peace category\n"
     ]
    }
   ],
   "source": [
    "# Filter by gender and group by year and category pair\n",
    "female_count_year_cat = nobel_df[nobel_df['sex'] == 'Female'].groupby(['year', 'category']).agg('size').reset_index(name = 'count')\n",
    "\n",
    "# Add a decade column\n",
    "female_count_year_cat['decade'] = (np.floor(female_count_year_cat['year'] / 10) * 10 ).astype(int)\n",
    "\n",
    "# Find the top decade and category\n",
    "max_female_dict = female_count_year_cat.groupby(['decade', 'category']).agg('size').sort_values(ascending = False).index[0]\n",
    "\n",
    "print(\"The decade which had the highest proportion of female winners is\", max_female_dict[0], \"in the\", max_female_dict[1],\n",
    "     \"category\")"
   ]
  },
  {
   "cell_type": "markdown",
   "id": "275e21c2-31ea-4deb-89d0-cdd1f8ea6957",
   "metadata": {},
   "source": [
    "## 4. Finding who was the first woman to receive a Nobel Prize and in what category."
   ]
  },
  {
   "cell_type": "code",
   "execution_count": 13,
   "id": "de0895b1-fe31-4b7d-8434-b35f0db9dc6d",
   "metadata": {
    "executionCancelledAt": null,
    "executionTime": 48,
    "lastExecutedAt": 1705603572990,
    "lastScheduledRunId": null,
    "lastSuccessfullyExecutedCode": "# Filter by gender\nfirst_w_np = nobel_df[nobel_df['sex'] == 'Female'].sort_values('year')\n\n# Save the answers\nfirst_woman_name = first_w_np.iloc[0]['full_name']\n\nfirst_woman_category = first_w_np.iloc[0]['category']\n\nprint([first_woman_name, first_woman_category])\n",
    "outputsMetadata": {
     "0": {
      "height": 37,
      "type": "stream"
     }
    }
   },
   "outputs": [
    {
     "name": "stdout",
     "output_type": "stream",
     "text": [
      "The first woman to win a Nobel Prize was Marie Curie, née Sklodowska in the category of Physics\n"
     ]
    }
   ],
   "source": [
    "# Filter by gender\n",
    "first_w_np = nobel_df[nobel_df['sex'] == 'Female'].sort_values('year')\n",
    "\n",
    "# Save the answers\n",
    "first_woman_name = first_w_np.iloc[0]['full_name']\n",
    "\n",
    "first_woman_category = first_w_np.iloc[0]['category']\n",
    "\n",
    "print(\"The first woman to win a Nobel Prize was\", first_woman_name, \"in the category of\", first_woman_category)"
   ]
  },
  {
   "cell_type": "markdown",
   "id": "4fcbf876-a976-4982-95bc-a60a68c74b68",
   "metadata": {},
   "source": [
    "## 5.  Individuals or organizations have won multiple Nobel Prizes throughout the years."
   ]
  },
  {
   "cell_type": "code",
   "execution_count": 12,
   "id": "0b099edd-8872-41f0-a334-73afd095b34d",
   "metadata": {
    "executionCancelledAt": null,
    "executionTime": 48,
    "lastExecutedAt": 1705603573038,
    "lastScheduledRunId": null,
    "lastSuccessfullyExecutedCode": "# Selecting the laureates that have received 2 or more prizes\ncounts = nobel_df['full_name'].value_counts()\nrepeats = counts[counts >= 2].index\nrepeat_list = list(repeats)\n\nprint(\"\\n The repeat winners are :\", repeat_list)\n\n# Group by name and organization\n#multiple_winners_ind = nobel_df.groupby(['full_name']).agg('size').reset_index(name = 'count')\n\n# Filter for counts larger than 1 and append to the repeat_list\n#repeat_list = []\n\n#repeat_list.append(multiple_winners_ind[multiple_winners_ind['count'] > 1]['full_name'])\n\n\n#print(repeat_list)\n",
    "outputsMetadata": {
     "0": {
      "height": 97,
      "type": "stream"
     }
    }
   },
   "outputs": [
    {
     "name": "stdout",
     "output_type": "stream",
     "text": [
      "['Comité international de la Croix Rouge (International Committee of the Red Cross)', 'Frederick Sanger', 'John Bardeen', 'Linus Carl Pauling', 'Marie Curie, née Sklodowska', 'Office of the United Nations High Commissioner for Refugees (UNHCR)']\n"
     ]
    }
   ],
   "source": [
    "# Group by name and organization\n",
    "multiple_winners_ind = nobel_df.groupby(['full_name']).agg('size').reset_index(name = 'count')\n",
    "\n",
    "# Filter for counts larger than 1 and append to the repeat_list\n",
    "repeat_list = list(multiple_winners_ind[multiple_winners_ind['count'] > 1]['full_name'])\n",
    "print(repeat_list)"
   ]
  }
 ],
 "metadata": {
  "editor": "DataCamp Workspace",
  "kernelspec": {
   "display_name": "Python 3 (ipykernel)",
   "language": "python",
   "name": "python3"
  },
  "language_info": {
   "codemirror_mode": {
    "name": "ipython",
    "version": 3
   },
   "file_extension": ".py",
   "mimetype": "text/x-python",
   "name": "python",
   "nbconvert_exporter": "python",
   "pygments_lexer": "ipython3",
   "version": "3.9.12"
  }
 },
 "nbformat": 4,
 "nbformat_minor": 5
}
